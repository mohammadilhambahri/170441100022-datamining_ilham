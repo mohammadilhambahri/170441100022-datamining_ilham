{
 "cells": [
  {
   "cell_type": "code",
   "execution_count": 4,
   "metadata": {},
   "outputs": [],
   "source": [
    "import numpy as np \n",
    "import pandas as pd\n",
    "import matplotlib.pyplot as plt\n",
    "import seaborn as sns\n",
    "from sklearn.metrics import confusion_matrix\n",
    "from sklearn.neighbors import KNeighborsClassifier"
   ]
  },
  {
   "cell_type": "code",
   "execution_count": 5,
   "metadata": {},
   "outputs": [],
   "source": [
    "from sklearn.model_selection import train_test_split\n",
    "from sklearn.linear_model import LogisticRegression"
   ]
  },
  {
   "cell_type": "code",
   "execution_count": 6,
   "metadata": {},
   "outputs": [
    {
     "data": {
      "text/html": [
       "<div>\n",
       "<style scoped>\n",
       "    .dataframe tbody tr th:only-of-type {\n",
       "        vertical-align: middle;\n",
       "    }\n",
       "\n",
       "    .dataframe tbody tr th {\n",
       "        vertical-align: top;\n",
       "    }\n",
       "\n",
       "    .dataframe thead th {\n",
       "        text-align: right;\n",
       "    }\n",
       "</style>\n",
       "<table border=\"1\" class=\"dataframe\">\n",
       "  <thead>\n",
       "    <tr style=\"text-align: right;\">\n",
       "      <th></th>\n",
       "      <th>Id</th>\n",
       "      <th>SepalLengthCm</th>\n",
       "      <th>SepalWidthCm</th>\n",
       "      <th>PetalLengthCm</th>\n",
       "      <th>PetalWidthCm</th>\n",
       "      <th>Species</th>\n",
       "    </tr>\n",
       "  </thead>\n",
       "  <tbody>\n",
       "    <tr>\n",
       "      <th>0</th>\n",
       "      <td>1</td>\n",
       "      <td>5.1</td>\n",
       "      <td>3.5</td>\n",
       "      <td>1.4</td>\n",
       "      <td>0.2</td>\n",
       "      <td>Iris-setosa</td>\n",
       "    </tr>\n",
       "    <tr>\n",
       "      <th>1</th>\n",
       "      <td>2</td>\n",
       "      <td>4.9</td>\n",
       "      <td>3.0</td>\n",
       "      <td>1.4</td>\n",
       "      <td>0.2</td>\n",
       "      <td>Iris-setosa</td>\n",
       "    </tr>\n",
       "    <tr>\n",
       "      <th>2</th>\n",
       "      <td>3</td>\n",
       "      <td>4.7</td>\n",
       "      <td>3.2</td>\n",
       "      <td>1.3</td>\n",
       "      <td>0.2</td>\n",
       "      <td>Iris-setosa</td>\n",
       "    </tr>\n",
       "    <tr>\n",
       "      <th>3</th>\n",
       "      <td>4</td>\n",
       "      <td>4.6</td>\n",
       "      <td>3.1</td>\n",
       "      <td>1.5</td>\n",
       "      <td>0.2</td>\n",
       "      <td>Iris-setosa</td>\n",
       "    </tr>\n",
       "    <tr>\n",
       "      <th>4</th>\n",
       "      <td>5</td>\n",
       "      <td>5.0</td>\n",
       "      <td>3.6</td>\n",
       "      <td>1.4</td>\n",
       "      <td>0.2</td>\n",
       "      <td>Iris-setosa</td>\n",
       "    </tr>\n",
       "  </tbody>\n",
       "</table>\n",
       "</div>"
      ],
      "text/plain": [
       "   Id  SepalLengthCm  SepalWidthCm  PetalLengthCm  PetalWidthCm      Species\n",
       "0   1            5.1           3.5            1.4           0.2  Iris-setosa\n",
       "1   2            4.9           3.0            1.4           0.2  Iris-setosa\n",
       "2   3            4.7           3.2            1.3           0.2  Iris-setosa\n",
       "3   4            4.6           3.1            1.5           0.2  Iris-setosa\n",
       "4   5            5.0           3.6            1.4           0.2  Iris-setosa"
      ]
     },
     "execution_count": 6,
     "metadata": {},
     "output_type": "execute_result"
    }
   ],
   "source": [
    "data_orj=pd.read_csv(\"E:\\ILham\\Kuliah\\Data Mining\\K-NN\\Iris.csv\")\n",
    "data_orj.head()\n"
   ]
  },
  {
   "cell_type": "code",
   "execution_count": 10,
   "metadata": {},
   "outputs": [
    {
     "name": "stdin",
     "output_type": "stream",
     "text": [
      "Masukkan K :  5\n"
     ]
    },
    {
     "name": "stdout",
     "output_type": "stream",
     "text": [
      "KNN dengan (K = 5 ) Akurasinya adalah:  0.8\n",
      "\n",
      "Data Asli dan Prediksinya\n",
      "     SepalLengthCm  SepalWidthCm          Species         prediksi\n",
      "73             6.1           2.8  Iris-versicolor  Iris-versicolor\n",
      "18             5.7           3.8      Iris-setosa      Iris-setosa\n",
      "118            7.7           2.6   Iris-virginica   Iris-virginica\n",
      "78             6.0           2.9  Iris-versicolor  Iris-versicolor\n",
      "76             6.8           2.8  Iris-versicolor  Iris-versicolor\n",
      "31             5.4           3.4      Iris-setosa      Iris-setosa\n",
      "64             5.6           2.9  Iris-versicolor  Iris-versicolor\n",
      "141            6.9           3.1   Iris-virginica   Iris-virginica\n",
      "68             6.2           2.2  Iris-versicolor  Iris-versicolor\n",
      "82             5.8           2.7  Iris-versicolor  Iris-versicolor\n",
      "110            6.5           3.2   Iris-virginica   Iris-virginica\n",
      "12             4.8           3.0      Iris-setosa      Iris-setosa\n",
      "36             5.5           3.5      Iris-setosa      Iris-setosa\n",
      "9              4.9           3.1      Iris-setosa      Iris-setosa\n",
      "19             5.1           3.8      Iris-setosa      Iris-setosa\n",
      "56             6.3           3.3  Iris-versicolor   Iris-virginica\n",
      "104            6.5           3.0   Iris-virginica   Iris-virginica\n",
      "69             5.6           2.5  Iris-versicolor  Iris-versicolor\n",
      "55             5.7           2.8  Iris-versicolor  Iris-versicolor\n",
      "132            6.4           2.8   Iris-virginica   Iris-virginica\n",
      "29             4.7           3.2      Iris-setosa      Iris-setosa\n",
      "127            6.1           3.0   Iris-virginica  Iris-versicolor\n",
      "26             5.0           3.4      Iris-setosa      Iris-setosa\n",
      "128            6.4           2.8   Iris-virginica   Iris-virginica\n",
      "131            7.9           3.8   Iris-virginica   Iris-virginica\n",
      "145            6.7           3.0   Iris-virginica  Iris-versicolor\n",
      "108            6.7           2.5   Iris-virginica  Iris-versicolor\n",
      "143            6.8           3.2   Iris-virginica   Iris-virginica\n",
      "45             4.8           3.0      Iris-setosa      Iris-setosa\n",
      "30             4.8           3.1      Iris-setosa      Iris-setosa\n",
      "22             4.6           3.6      Iris-setosa      Iris-setosa\n",
      "15             5.7           4.4      Iris-setosa      Iris-setosa\n",
      "65             6.7           3.1  Iris-versicolor   Iris-virginica\n",
      "11             4.8           3.4      Iris-setosa      Iris-setosa\n",
      "42             4.4           3.2      Iris-setosa      Iris-setosa\n",
      "146            6.3           2.5   Iris-virginica   Iris-virginica\n",
      "51             6.4           3.2  Iris-versicolor   Iris-virginica\n",
      "27             5.2           3.5      Iris-setosa      Iris-setosa\n",
      "4              5.0           3.6      Iris-setosa      Iris-setosa\n",
      "32             5.2           4.1      Iris-setosa      Iris-setosa\n",
      "142            5.8           2.7   Iris-virginica  Iris-versicolor\n",
      "85             6.0           3.4  Iris-versicolor   Iris-virginica\n",
      "86             6.7           3.1  Iris-versicolor   Iris-virginica\n",
      "16             5.4           3.9      Iris-setosa      Iris-setosa\n",
      "10             5.4           3.7      Iris-setosa      Iris-setosa\n"
     ]
    }
   ],
   "source": [
    "### Mengambil semua data untuk percobaan\n",
    "data = data_orj.loc [:,'Id':'Species']\n",
    "\n",
    "### Mengambil 3 kolom\n",
    "data_knn = data[['SepalLengthCm','Species','SepalWidthCm']]\n",
    "\n",
    "### Input jumlah K atau jumlah tetangga terdekat\n",
    "inK = int(input(\"Masukkan K : \"))\n",
    "\n",
    "### Mencari knn dengan menggunakan sklearn neighbors clssifier\n",
    "knn = KNeighborsClassifier(n_neighbors = inK)  \n",
    "x,y = data_knn.loc[:,data_knn.columns != 'Species'], data_knn.loc[:,'Species']\n",
    "x_train,x_test,y_train,y_test = train_test_split(x,y,test_size = 0.3, random_state = 42)\n",
    "knn.fit(x_train,y_train)\n",
    "prediction = knn.predict(x_test)\n",
    "\n",
    "print('KNN dengan (K =',inK,') Akurasinya adalah: ', knn.score(x_test,y_test))\n",
    "print(\"\")\n",
    "\n",
    "datatest = pd.DataFrame(x_test)\n",
    "datatest[\"Species\"] = y_test\n",
    "datatest[\"prediksi\"] = prediction\n",
    "print (\"Data Asli dan Prediksinya\")\n",
    "print (datatest)"
   ]
  },
  {
   "cell_type": "code",
   "execution_count": null,
   "metadata": {},
   "outputs": [],
   "source": []
  },
  {
   "cell_type": "code",
   "execution_count": null,
   "metadata": {},
   "outputs": [],
   "source": []
  },
  {
   "cell_type": "code",
   "execution_count": null,
   "metadata": {},
   "outputs": [],
   "source": []
  }
 ],
 "metadata": {
  "kernelspec": {
   "display_name": "Python 3",
   "language": "python",
   "name": "python3"
  },
  "language_info": {
   "codemirror_mode": {
    "name": "ipython",
    "version": 3
   },
   "file_extension": ".py",
   "mimetype": "text/x-python",
   "name": "python",
   "nbconvert_exporter": "python",
   "pygments_lexer": "ipython3",
   "version": "3.7.1"
  }
 },
 "nbformat": 4,
 "nbformat_minor": 2
}
